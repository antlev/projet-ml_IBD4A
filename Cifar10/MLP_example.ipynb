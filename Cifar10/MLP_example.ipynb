{
 "cells": [
  {
   "cell_type": "code",
   "execution_count": null,
   "metadata": {},
   "outputs": [],
   "source": [
    "#import des packages de keras que l'on va utiliser \n",
    "from keras.metrics import categorical_accuracy\n",
    "from keras.models import *\n",
    "from keras.layers import *\n",
    "from keras.activations import *\n",
    "from keras.optimizers import *\n",
    "from keras.losses import *\n",
    "from keras.datasets import *\n",
    "import keras\n",
    "import numpy as np\n",
    "\n",
    "#création des variables que l'on changera au fur et à mesure des expériences\n",
    "experiment_name = \"10T_10S_0.5\"\n",
    "lrate = 0.5\n",
    "\n",
    "# On charge les données cifar10, présentes dans keras\n",
    "(x_train, y_train), (x_test,y_test) = cifar10.load_data()\n",
    "\n",
    "print(\"Before reshape :\")\n",
    "print(x_train.shape)\n",
    "print(y_train.shape)\n",
    "\n",
    "# Normalisation des données\n",
    "x_train = np.reshape(x_train, (-1,32*32*3)) / 255.0\n",
    "x_test = np.reshape(x_test, (-1,32*32*3)) / 255.0\n",
    "\n",
    "y_train = keras.utils.to_categorical(y_train)\n",
    "y_test = keras.utils.to_categorical(y_test)\n",
    "\n",
    "print(\"After reshape :\")\n",
    "print(x_train.shape)\n",
    "print(y_train.shape)\n",
    "\n",
    "# Configuration du modèle\n",
    "model = Sequential()\n",
    "model.add(Dense(10, activation=tanh, input_dim=32*32*3))\n",
    "model.add(Dense(10, activation=sigmoid))\n",
    "\n",
    "# Compilation avec les paramètres voulus\n",
    "model.compile(sgd(lr=lrate), mse, metrics=[categorical_accuracy])\n",
    "\n",
    "#Apprentissage\n",
    "model.fit(x_train, y_train,\n",
    "                 batch_size=4096,\n",
    "                 epochs=20000,\n",
    "                 validation_data=(x_test, y_test))"
   ]
  }
 ],
 "metadata": {
  "kernelspec": {
   "display_name": "Python 3",
   "language": "python",
   "name": "python3"
  },
  "language_info": {
   "codemirror_mode": {
    "name": "ipython",
    "version": 3
   },
   "file_extension": ".py",
   "mimetype": "text/x-python",
   "name": "python",
   "nbconvert_exporter": "python",
   "pygments_lexer": "ipython3",
   "version": "3.6.3"
  }
 },
 "nbformat": 4,
 "nbformat_minor": 2
}
